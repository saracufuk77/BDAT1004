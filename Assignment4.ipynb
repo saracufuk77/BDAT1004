{
 "cells": [
  {
   "cell_type": "code",
   "execution_count": 2,
   "metadata": {},
   "outputs": [
    {
     "name": "stdout",
     "output_type": "stream",
     "text": [
      "Enter the file name:mbox.txt\n",
      "$ python grep.py\n",
      "Enter a regular expression: ^X\n",
      "mbox.txt had 14368 lines that matched ^X\n"
     ]
    }
   ],
   "source": [
    "#Chapter 11 Exercise 1\n",
    "\n",
    "import re\n",
    "fname=input(\"Enter the file name:\")\n",
    "fhand=open(fname)\n",
    "print(\"$ python grep.py\")\n",
    "exp=input(\"Enter a regular expression: \")\n",
    "counter=0\n",
    "for line in fhand:\n",
    "    x=re.findall(exp,line)\n",
    "    if len(x)>0:\n",
    "        counter+=1\n",
    "print(\"{} had {} lines that matched {}\".format(fname,counter,exp))\n"
   ]
  },
  {
   "cell_type": "code",
   "execution_count": 4,
   "metadata": {},
   "outputs": [
    {
     "name": "stdout",
     "output_type": "stream",
     "text": [
      "Enter file: mbox-short.txt\n",
      "39756.92592592593\n"
     ]
    }
   ],
   "source": [
    "#Chapter 11 Exercise 2\n",
    "\n",
    "import re\n",
    "fname=input(\"Enter file: \")\n",
    "fhand=open(fname)\n",
    "counter=0\n",
    "total=0\n",
    "for line in fhand:\n",
    "    x=re.findall(\"^N[a-zA-z ]+: ([0-9]+)\",line)\n",
    "    if len(x)>0:\n",
    "        number=float(x[0])\n",
    "        total=total+number\n",
    "        counter+=1\n",
    "avg=total/counter\n",
    "print(avg)\n"
   ]
  },
  {
   "cell_type": "code",
   "execution_count": 5,
   "metadata": {},
   "outputs": [
    {
     "name": "stdout",
     "output_type": "stream",
     "text": [
      "Enter - http://data.pr4e.org/romeo.txt\n",
      "HTTP/1.1 200 OK\n",
      "Date: Sat, 08 Jun 2019 10:21:19 GMT\n",
      "Server: Apache/2.4.18 (Ubuntu)\n",
      "Last-Modified: Sat, 13 May 2017 11:22:22 GMT\n",
      "ETag: \"a7-54f6609245537\"\n",
      "Accept-Ranges: bytes\n",
      "Content-Length: 167\n",
      "Cache-Control: max-age=0, no-cache, no-store, must-revalidate\n",
      "Pragma: no-cache\n",
      "Expires: Wed, 11 Jan 1984 05:00:00 GMT\n",
      "Connection: close\n",
      "Content-Type: text/plain\n",
      "\n",
      "But soft what light through yonder window breaks\n",
      "It is the east and Juliet is the sun\n",
      "Arise fair sun and kill the envious moon\n",
      "Who is already sick and pale with grief\n"
     ]
    }
   ],
   "source": [
    "#Chapter 12 Exercise 1\n",
    "\n",
    "import socket\n",
    "mysock = socket.socket(socket.AF_INET, socket.SOCK_STREAM)\n",
    "\n",
    "try: \n",
    "    url = input('Enter - ')\n",
    "    portname=url.split(\"/\")\n",
    "    #print(portname[2])    \n",
    "    mysock.connect((portname[2], 80))\n",
    "    cmd = (\"GET {} HTTP/1.0\\r\\n\\r\\n\".format(url)).encode()\n",
    "    mysock.send(cmd)\n",
    "except IndexError:\n",
    "    print(\"Non-existent or improperly formatted URL\")\n",
    "    quit()\n",
    "\n",
    "while True:\n",
    "    data = mysock.recv(512)\n",
    "    if len(data) < 1:\n",
    "        break\n",
    "    print(data.decode(),end='')\n",
    "mysock.close()\n"
   ]
  },
  {
   "cell_type": "code",
   "execution_count": 7,
   "metadata": {},
   "outputs": [
    {
     "name": "stdout",
     "output_type": "stream",
     "text": [
      "Enter - http://data.pr4e.org/romeo.txt\n",
      "data.pr4e.org\n",
      "HTTP/1.1 200 OK\n",
      "Date: Sat, 08 Jun 2019 10:23:35 GMT\n",
      "Server: Apache/2.4.18 (Ubuntu)\n",
      "Last-Modified: Sat, 13 May 2017 11:22:22 GMT\n",
      "ETag: \"a7-54f6609245537\"\n",
      "Accept-Ranges: bytes\n",
      "Content-Length: 167\n",
      "Cache-Control: max-age=0, no-cache, no-store, must-revalidate\n",
      "Pragma: no-cache\n",
      "Expires: Wed, 11 Jan 1984 05:00:00 GMT\n",
      "Connection: close\n",
      "Content-Type: text/plain\n",
      "\n",
      "But soft what light through yonder window breaks\n",
      "It is the east and Juliet is the sun\n",
      "Arise fair sun and kill the envious moon\n",
      "Who is already sick and pale with grief\n",
      "Total # of characters : 536\n"
     ]
    }
   ],
   "source": [
    "#Chapter 12 Exercise 2\n",
    "\n",
    "import socket\n",
    "mysock = socket.socket(socket.AF_INET, socket.SOCK_STREAM)\n",
    "url = input('Enter - ')\n",
    "portname=url.split(\"/\")\n",
    "print(portname[2])    \n",
    "mysock.connect((portname[2], 80))\n",
    "cmd = (\"GET {} HTTP/1.0\\r\\n\\r\\n\".format(url)).encode()\n",
    "mysock.send(cmd)\n",
    "\n",
    "count = 0\n",
    "while True:\n",
    "    data = mysock.recv(512)\n",
    "    if len(data) < 1: break\n",
    "    if count <3000:\n",
    "        print(data.decode(),end='')\n",
    "    count = count + len(data)\n",
    "print(\"Total # of characters :\", count)\n",
    "mysock.close()\n"
   ]
  },
  {
   "cell_type": "code",
   "execution_count": 9,
   "metadata": {},
   "outputs": [
    {
     "name": "stdout",
     "output_type": "stream",
     "text": [
      "Enter - http://data.pr4e.org/romeo.txt\n",
      "But soft what light through yonder window breaks\n",
      "It is the east and Juliet is the sun\n",
      "Arise fair sun and kill the envious moon\n",
      "Who is already sick and pale with grief\n",
      "Overall # of characters:  167\n"
     ]
    }
   ],
   "source": [
    "#Chapter 12 Exercise 3\n",
    "\n",
    "import urllib.request\n",
    "import urllib.parse\n",
    "import urllib.error\n",
    "\n",
    "url = input('Enter - ')\n",
    "fhand = urllib.request.urlopen(url)\n",
    "\n",
    "characters = 0\n",
    "for line in fhand:\n",
    "    words = line.decode()\n",
    "    characters = characters + len(words)\n",
    "    if characters < 3000:\n",
    "        print(line.decode().strip())\n",
    "print(\"Overall # of characters: \",characters)"
   ]
  },
  {
   "cell_type": "code",
   "execution_count": 12,
   "metadata": {},
   "outputs": [
    {
     "name": "stdout",
     "output_type": "stream",
     "text": [
      "Enter - https://docs.python.org\n",
      "# of TAG : 44\n"
     ]
    }
   ],
   "source": [
    "#Chapter 12 Exercise 4\n",
    "\n",
    "from urllib.request import urlopen\n",
    "from bs4 import BeautifulSoup\n",
    "import ssl\n",
    "\n",
    "ctx = ssl.create_default_context()\n",
    "ctx.check_hostname = False\n",
    "ctx.verify_mode = ssl.CERT_NONE\n",
    "\n",
    "url = input('Enter - ')\n",
    "html = urlopen(url, context=ctx).read()\n",
    "soup = BeautifulSoup(html, \"html.parser\")\n",
    "counter=0\n",
    "\n",
    "tags = soup('a')\n",
    "for tag in tags:\n",
    "    counter+=1\n",
    "print('# of TAG :', counter)"
   ]
  },
  {
   "cell_type": "code",
   "execution_count": 13,
   "metadata": {},
   "outputs": [
    {
     "name": "stdout",
     "output_type": "stream",
     "text": [
      "Enter - http://data.pr4e.org/romeo.txt\n",
      "But soft what light through yonder window breaks\n",
      "It is the east and Juliet is the sun\n",
      "Arise fair sun and kill the envious moon\n",
      "Who is already s and pale with grief\n"
     ]
    }
   ],
   "source": [
    "#Chapter 12 Exercise 5\n",
    "\n",
    "import socket\n",
    "import re\n",
    "mysock = socket.socket(socket.AF_INET, socket.SOCK_STREAM)\n",
    "\n",
    "try: \n",
    "    url = input('Enter - ')\n",
    "    portname=url.split(\"/\")\n",
    "    #print(portname[2])    \n",
    "    mysock.connect((portname[2], 80))\n",
    "    cmd = (\"GET {} HTTP/1.0\\r\\n\\r\\n\".format(url)).encode()\n",
    "    mysock.send(cmd)\n",
    "except IndexError:\n",
    "    print(\"Non-existent or improperly formatted URL\")\n",
    "    quit()\n",
    "    \n",
    "while True:\n",
    "    data = mysock.recv(512)\n",
    "    text=data.decode()\n",
    "    hepos=text.find(\"\\r\\n\\r\\n\")+4\n",
    "    if len(data) < 1:\n",
    "        break\n",
    "    print(text[hepos:],end='')\n",
    "mysock.close()\n"
   ]
  },
  {
   "cell_type": "code",
   "execution_count": null,
   "metadata": {},
   "outputs": [],
   "source": []
  }
 ],
 "metadata": {
  "kernelspec": {
   "display_name": "Python 3",
   "language": "python",
   "name": "python3"
  },
  "language_info": {
   "codemirror_mode": {
    "name": "ipython",
    "version": 3
   },
   "file_extension": ".py",
   "mimetype": "text/x-python",
   "name": "python",
   "nbconvert_exporter": "python",
   "pygments_lexer": "ipython3",
   "version": "3.7.3"
  }
 },
 "nbformat": 4,
 "nbformat_minor": 2
}
