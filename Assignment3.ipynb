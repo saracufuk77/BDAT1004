{
 "cells": [
  {
   "cell_type": "code",
   "execution_count": 28,
   "metadata": {},
   "outputs": [
    {
     "name": "stdout",
     "output_type": "stream",
     "text": [
      "Enter a number:5\n",
      "Enter a number:6\n",
      "Enter a number:67\n",
      "Enter a number:r\n",
      "Invalid input\n",
      "Enter a number:d\n",
      "Invalid input\n",
      "Enter a number:4\n",
      "Enter a number:done\n",
      "Invalid input\n",
      "total: 216 count: 6 average: 36.0\n"
     ]
    }
   ],
   "source": [
    "#chapter 5 exercise 1\n",
    "\n",
    "counter=0\n",
    "total=0\n",
    "average=0\n",
    "while True:\n",
    "    try:\n",
    "        number=input(\"Enter a number:\")\n",
    "        val=int(number)\n",
    "    except ValueError:\n",
    "        print(\"Invalid input\")\n",
    "    if number == \"done\":break\n",
    "    counter+=1\n",
    "    total=total+val\n",
    "    average=total/counter\n",
    "print( \"total:\",total,\"count:\",counter, \"average:\",average)\n"
   ]
  },
  {
   "cell_type": "code",
   "execution_count": 29,
   "metadata": {},
   "outputs": [
    {
     "name": "stdout",
     "output_type": "stream",
     "text": [
      "Enter a number9\n",
      "Enter a number6\n",
      "Enter a number7\n",
      "Enter a numbert\n",
      "Invalid input\n",
      "Enter a number7\n",
      "Enter a number6\n",
      "Enter a numberdone\n",
      "Invalid input\n",
      "list=: [9, 6, 7, 7, 6] \n",
      "maximum number: 9 \n",
      "minimum number: 6\n"
     ]
    }
   ],
   "source": [
    "#chapter 5 exercise 2\n",
    "\n",
    "liste=[]\n",
    "while True:\n",
    "    try:\n",
    "        number=input(\"Enter a number\")\n",
    "        number=int(number)\n",
    "        liste=liste+[number]\n",
    "    except ValueError:\n",
    "        print(\"Invalid input\")\n",
    "    if number == \"done\":\n",
    "        break\n",
    "counter=0\n",
    "maxE=liste[0]\n",
    "minE=liste[0]\n",
    "for i in liste:\n",
    "    if maxE<i:\n",
    "        maxE=i\n",
    "    if minE>i:\n",
    "        minE=i\n",
    "print( \"list=:\",liste,\"\\nmaximum number:\",maxE, \"\\nminimum number:\",minE)\n"
   ]
  },
  {
   "cell_type": "code",
   "execution_count": 10,
   "metadata": {},
   "outputs": [
    {
     "name": "stdout",
     "output_type": "stream",
     "text": [
      "0.8475\n"
     ]
    }
   ],
   "source": [
    "#chapter 6 exercise 5\n",
    "\n",
    "str = \"X-DSPAM-Confidence:0.8475\"\n",
    "spos=str.find(\":\")\n",
    "epos=len(str)\n",
    "number=float(str[spos+1:epos])\n",
    "print(number)"
   ]
  },
  {
   "cell_type": "code",
   "execution_count": 12,
   "metadata": {},
   "outputs": [
    {
     "name": "stdout",
     "output_type": "stream",
     "text": [
      "Enter the file name:mbox.txt\n",
      "Average spam confidence: 0.8941280467445736\n"
     ]
    }
   ],
   "source": [
    "#chapter 7 exercise 2\n",
    "\n",
    "fname=input(\"Enter the file name:\")\n",
    "fhand=open(fname)\n",
    "spamconfval=list()\n",
    "total=0\n",
    "counter=0\n",
    "for line in fhand:\n",
    "    if line.startswith(\"X-DSPAM-Confidence:\"):\n",
    "        counter+=1\n",
    "        spos=line.find(\":\")\n",
    "        epos=len(line)\n",
    "        number=float(line[spos+1:epos])\n",
    "        spamconfval.append(number)\n",
    "for i in spamconfval:\n",
    "    total=total+i\n",
    "avspamconf=total/counter\n",
    "print(\"Average spam confidence:\",avspamconf)"
   ]
  },
  {
   "cell_type": "code",
   "execution_count": 2,
   "metadata": {},
   "outputs": [
    {
     "name": "stdout",
     "output_type": "stream",
     "text": [
      "Enter the file name:romeo.txt\n",
      "['Arise', 'But', 'It', 'Juliet', 'Who', 'already', 'and', 'and', 'and', 'breaks', 'east', 'envious', 'fair', 'grief', 'is', 'is', 'is', 'kill', 'light', 'moon', 'pale', 'sick', 'soft', 'sun', 'sun', 'the', 'the', 'the', 'through', 'what', 'window', 'with', 'yonder']\n"
     ]
    }
   ],
   "source": [
    "#chapter 8 exercise 4\n",
    "\n",
    "fname=input(\"Enter the file name:\")\n",
    "fhand=open(fname)\n",
    "liste=list()\n",
    "for line in fhand:\n",
    "    words = line.split()\n",
    "    if len(words) == 0 : continue\n",
    "    for word in words:\n",
    "        liste.append(word)\n",
    "orig=liste[:]\n",
    "liste.sort()\n",
    "print(liste)"
   ]
  },
  {
   "cell_type": "code",
   "execution_count": 5,
   "metadata": {},
   "outputs": [
    {
     "name": "stdout",
     "output_type": "stream",
     "text": [
      "Enter the file name:mbox-short.txt\n",
      "stephen.marquard@uct.ac.za\n",
      "louis@media.berkeley.edu\n",
      "zqian@umich.edu\n",
      "rjlowe@iupui.edu\n",
      "zqian@umich.edu\n",
      "rjlowe@iupui.edu\n",
      "cwen@iupui.edu\n",
      "cwen@iupui.edu\n",
      "gsilver@umich.edu\n",
      "gsilver@umich.edu\n",
      "zqian@umich.edu\n",
      "gsilver@umich.edu\n",
      "wagnermr@iupui.edu\n",
      "zqian@umich.edu\n",
      "antranig@caret.cam.ac.uk\n",
      "gopal.ramasammycook@gmail.com\n",
      "david.horwitz@uct.ac.za\n",
      "david.horwitz@uct.ac.za\n",
      "david.horwitz@uct.ac.za\n",
      "david.horwitz@uct.ac.za\n",
      "stephen.marquard@uct.ac.za\n",
      "louis@media.berkeley.edu\n",
      "louis@media.berkeley.edu\n",
      "ray@media.berkeley.edu\n",
      "cwen@iupui.edu\n",
      "cwen@iupui.edu\n",
      "cwen@iupui.edu\n",
      "There were 27 lines in the file with From as the first word\n"
     ]
    }
   ],
   "source": [
    "#chapter 8 exercise 5\n",
    "\n",
    "fname=input(\"Enter the file name:\")\n",
    "fhand=open(fname)\n",
    "counter=0\n",
    "for line in fhand:\n",
    "    if line.startswith(\"From\"):\n",
    "        words=line.split()\n",
    "        if len(words) == 0 : continue\n",
    "        if words[0] != \"From\" : continue\n",
    "        counter+=1\n",
    "        print(words[1])\n",
    "print(\"There were {} lines in the file with From as the first word\".format(counter))"
   ]
  },
  {
   "cell_type": "code",
   "execution_count": 6,
   "metadata": {},
   "outputs": [
    {
     "name": "stdout",
     "output_type": "stream",
     "text": [
      "Enter the file name: mbox.txt\n",
      "zqian@umich.edu 195\n"
     ]
    }
   ],
   "source": [
    "#chapter 9 exercise 4\n",
    "\n",
    "import string\n",
    "fname = input('Enter the file name: ')\n",
    "try:\n",
    "    fhand = open(fname)\n",
    "except:\n",
    "    print('File cannot be opened:', fname)\n",
    "    exit()\n",
    "    \n",
    "new=list()\n",
    "counts=dict()\n",
    "for line in fhand:\n",
    "    line = line.rstrip()\n",
    "    if not line.startswith('From '): continue\n",
    "    words = line.split()\n",
    "    new.append(words[1])\n",
    "for word in new:\n",
    "    counts[word]=counts.get(word,0)+1\n",
    "\n",
    "\n",
    "vals=list(counts.values())\n",
    "key=list(counts.keys())\n",
    "maxE=vals[0]\n",
    "for i in vals: \n",
    "    if maxE<i:\n",
    "        maxE=i\n",
    "    i+=1\n",
    "ind=vals.index(maxE)\n",
    "maxP=key[ind]\n",
    "print( maxP,maxE)\n"
   ]
  },
  {
   "cell_type": "code",
   "execution_count": 8,
   "metadata": {},
   "outputs": [
    {
     "name": "stdout",
     "output_type": "stream",
     "text": [
      "Enter the file name: mbox-short.txt\n",
      "{'uct.ac.z': 6, 'media.berkeley.ed': 4, 'umich.ed': 7, 'iupui.ed': 8, 'caret.cam.ac.u': 1, 'gmail.co': 1}\n"
     ]
    }
   ],
   "source": [
    "#chapter 9 exercise 5\n",
    "\n",
    "import string\n",
    "fname = input('Enter the file name: ')\n",
    "try:\n",
    "    fhand = open(fname)\n",
    "except:\n",
    "    print('File cannot be opened:', fname)\n",
    "    exit()\n",
    "    \n",
    "new=list()\n",
    "counts=dict()\n",
    "for line in fhand:\n",
    "    line = line.rstrip()\n",
    "    if not line.startswith('From '): continue\n",
    "    words = line.split()\n",
    "    new.append(words[1])\n",
    "    \n",
    "for i in range(0,len(new)):\n",
    "    word=new[i]\n",
    "    atpos=word.find('@')\n",
    "    sppos = word.find(' ',atpos)\n",
    "    newword = word[atpos+1:sppos]\n",
    "    counts[newword]=counts.get(newword,0)+1\n",
    "    \n",
    "print(counts)\n"
   ]
  },
  {
   "cell_type": "code",
   "execution_count": 1,
   "metadata": {},
   "outputs": [
    {
     "name": "stdout",
     "output_type": "stream",
     "text": [
      "Enter the file name: mbox-short.txt\n",
      "04 3\n",
      "06 1\n",
      "07 1\n",
      "09 2\n",
      "10 3\n",
      "11 6\n",
      "14 1\n",
      "15 2\n",
      "16 4\n",
      "17 2\n",
      "18 1\n",
      "19 1\n"
     ]
    }
   ],
   "source": [
    "#chapter 10 exercise 2\n",
    "\n",
    "import string\n",
    "fname = input('Enter the file name: ')\n",
    "try:\n",
    "    fhand = open(fname)\n",
    "except:\n",
    "    print('File cannot be opened:', fname)\n",
    "    exit()\n",
    "    \n",
    "new=list()\n",
    "counts=dict()\n",
    "for line in fhand:\n",
    "    line = line.rstrip()\n",
    "    if not line.startswith('From '): continue\n",
    "    words = line.split()\n",
    "    new.append(words[5])\n",
    "       \n",
    "for i in range(0,len(new)):\n",
    "    time=new[i]\n",
    "    atpos=time.find(':')\n",
    "    hour = time[:atpos]\n",
    "    \n",
    "    counts[hour]=counts.get(hour,0)+1\n",
    "    \n",
    "lst = list()\n",
    "for key, val in list(counts.items()):\n",
    "    lst.append((key, val))\n",
    "lst.sort()\n",
    "for key, val in lst:\n",
    "    print(key, val)"
   ]
  },
  {
   "cell_type": "code",
   "execution_count": 7,
   "metadata": {},
   "outputs": [
    {
     "name": "stdout",
     "output_type": "stream",
     "text": [
      "Enter the file name: englishtext.txt\n",
      "398 e 12.61%\n",
      "304 t 9.63%\n",
      "260 o 8.24%\n",
      "242 a 7.67%\n",
      "221 h 7.00%\n",
      "212 s 6.72%\n",
      "211 i 6.69%\n",
      "193 n 6.12%\n",
      "155 r 4.91%\n",
      "151 d 4.78%\n",
      "150 l 4.75%\n",
      "85 u 2.69%\n",
      "78 w 2.47%\n",
      "75 p 2.38%\n",
      "71 f 2.25%\n",
      "69 m 2.19%\n",
      "62 c 1.96%\n",
      "55 g 1.74%\n",
      "46 y 1.46%\n",
      "46 b 1.46%\n",
      "29 v 0.92%\n",
      "27 k 0.86%\n",
      "8 j 0.25%\n",
      "4 x 0.13%\n",
      "3 q 0.10%\n",
      "1 z 0.03%\n"
     ]
    }
   ],
   "source": [
    "#chapter 10 exercise 3\n",
    "\n",
    "import string\n",
    "fname = input('Enter the file name: ')\n",
    "try:\n",
    "    fhand = open(fname)\n",
    "except:\n",
    "    print('File cannot be opened:', fname)\n",
    "    exit()\n",
    "\n",
    "counts=dict()\n",
    "liste=tuple()\n",
    "\n",
    "for line in fhand:\n",
    "    line = line.strip()\n",
    "    line = line.lower()\n",
    "    line = line.translate(line.maketrans(\"\", \"\", string.punctuation))\n",
    "    line = line.translate(line.maketrans(\"\", \"\", string.digits))\n",
    "    line = line.replace(\"”\",\"\")\n",
    "    line = line.replace(\"“\",\"\")\n",
    "    line = line.replace(\"’\",\"\")\n",
    "    line = line.replace(\" \",\"\")\n",
    "    text=tuple(line)\n",
    "    liste=liste+text\n",
    "\n",
    "    for letters in text:\n",
    "        if letters not in counts:\n",
    "            counts[letters] = 1\n",
    "        else:\n",
    "            counts[letters] += 1\n",
    "\n",
    "freq=dict()\n",
    "frequence=0.00\n",
    "total=0\n",
    "lst = list()\n",
    "for key, val in list(counts.items()):\n",
    "    lst.append((val, key))\n",
    "lst.sort(reverse=True)\n",
    "\n",
    "for key, val in lst[:]:\n",
    "    total=total+key\n",
    "\n",
    "for key, val in lst[:]:\n",
    "    frequence=float(key/total)\n",
    "    freq[key,val]=frequence\n",
    "    \n",
    "for key, val in freq:\n",
    "    print(key, val, '{:.2%}'.format(freq[key,val]))"
   ]
  },
  {
   "cell_type": "code",
   "execution_count": null,
   "metadata": {},
   "outputs": [],
   "source": []
  }
 ],
 "metadata": {
  "kernelspec": {
   "display_name": "Python 3",
   "language": "python",
   "name": "python3"
  },
  "language_info": {
   "codemirror_mode": {
    "name": "ipython",
    "version": 3
   },
   "file_extension": ".py",
   "mimetype": "text/x-python",
   "name": "python",
   "nbconvert_exporter": "python",
   "pygments_lexer": "ipython3",
   "version": "3.7.3"
  }
 },
 "nbformat": 4,
 "nbformat_minor": 2
}
