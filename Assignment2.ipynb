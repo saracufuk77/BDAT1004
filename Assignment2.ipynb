{
 "cells": [
  {
   "cell_type": "code",
   "execution_count": 1,
   "metadata": {},
   "outputs": [
    {
     "name": "stdin",
     "output_type": "stream",
     "text": [
      "Enter your name:  Ufuk\n"
     ]
    },
    {
     "name": "stdout",
     "output_type": "stream",
     "text": [
      "Hello  Ufuk\n"
     ]
    }
   ],
   "source": [
    "#Chapter 2 Exercise 2\n",
    "\n",
    "name=input(\"Enter your name: \")\n",
    "print(\"Hello \",name)"
   ]
  },
  {
   "cell_type": "code",
   "execution_count": 2,
   "metadata": {},
   "outputs": [
    {
     "name": "stdin",
     "output_type": "stream",
     "text": [
      "Enter hours:  35\n",
      "Enter rate:  2.75\n"
     ]
    },
    {
     "name": "stdout",
     "output_type": "stream",
     "text": [
      "Pay : 96.25\n"
     ]
    }
   ],
   "source": [
    "#Chapter 2 Exercise 3\n",
    "\n",
    "hours=int(input(\"Enter hours: \"))\n",
    "rate=float(input(\"Enter rate: \"))\n",
    "pay=hours*rate\n",
    "print(\"Pay :\",round(pay,2))"
   ]
  },
  {
   "cell_type": "code",
   "execution_count": 4,
   "metadata": {},
   "outputs": [
    {
     "name": "stdout",
     "output_type": "stream",
     "text": [
      "a:8\n",
      "b:8.5\n",
      "c:4.0\n",
      "d:11\n",
      "type of a:<class 'int'>\n",
      "type of b:<class 'float'>\n",
      "type of c:<class 'float'>\n",
      "type of d:<class 'int'>\n"
     ]
    }
   ],
   "source": [
    "#Chapter 2 Exercise 4\n",
    "\n",
    "width=17\n",
    "height=12.0\n",
    "\n",
    "a=width//2\n",
    "b=width/2.0\n",
    "c=height/3\n",
    "d=1+2*5\n",
    "\n",
    "print(\"a:{}\\nb:{}\\nc:{}\\nd:{}\".format(a,b,c,d))\n",
    "print(\"type of a:{}\\ntype of b:{}\\ntype of c:{}\\ntype of d:{}\".format(type(a),type(b),type(c),type(d)))\n"
   ]
  },
  {
   "cell_type": "code",
   "execution_count": 7,
   "metadata": {},
   "outputs": [
    {
     "name": "stdin",
     "output_type": "stream",
     "text": [
      "Enter the temperature as Celsius:  25\n"
     ]
    },
    {
     "name": "stdout",
     "output_type": "stream",
     "text": [
      "25.0 Celcius degree is equal to 77.0 Fahrenheit degree\n"
     ]
    }
   ],
   "source": [
    "#Chapter 2 Exercise 5\n",
    "\n",
    "celcius=input(\"Enter the temperature as Celsius: \")\n",
    "try:\n",
    "    celcius=float(celcius)\n",
    "    fahrenheit=round(celcius*1.8+32,2)\n",
    "    print(\"{} Celcius degree is equal to {} Fahrenheit degree\".format(celcius,fahrenheit))\n",
    "except:\n",
    "    print(\"Please enter a number\")"
   ]
  },
  {
   "cell_type": "code",
   "execution_count": 12,
   "metadata": {},
   "outputs": [
    {
     "name": "stdin",
     "output_type": "stream",
     "text": [
      "Enter Hours:  24\n",
      "Enter Rate:  4\n"
     ]
    },
    {
     "name": "stdout",
     "output_type": "stream",
     "text": [
      "Pay : 96.0\n"
     ]
    }
   ],
   "source": [
    "#Chapter 3 Exercise 1\n",
    "\n",
    "hours=int(input(\"Enter Hours: \"))\n",
    "rate=float(input(\"Enter Rate: \"))\n",
    "\n",
    "if hours<40:\n",
    "    pay = hours * rate\n",
    "else:\n",
    "    pay=40*rate+(hours-40)*1.5*rate\n",
    "print(\"Pay :\", round(pay, 2))\n"
   ]
  },
  {
   "cell_type": "code",
   "execution_count": 14,
   "metadata": {},
   "outputs": [
    {
     "name": "stdin",
     "output_type": "stream",
     "text": [
      "Enter Hours:  45\n",
      "Enter Rate:  10\n"
     ]
    },
    {
     "name": "stdout",
     "output_type": "stream",
     "text": [
      "Pay : 475.0\n"
     ]
    }
   ],
   "source": [
    "#Chapter 3 Exercise 1\n",
    "\n",
    "hours=int(input(\"Enter Hours: \"))\n",
    "rate=float(input(\"Enter Rate: \"))\n",
    "\n",
    "if hours<40:\n",
    "    pay = hours * rate\n",
    "else:\n",
    "    pay=40*rate+(hours-40)*1.5*rate\n",
    "print(\"Pay :\", round(pay, 2))\n"
   ]
  },
  {
   "cell_type": "code",
   "execution_count": 15,
   "metadata": {},
   "outputs": [
    {
     "name": "stdin",
     "output_type": "stream",
     "text": [
      "Enter Hours:  20\n",
      "Enter Rate:  nine\n"
     ]
    },
    {
     "name": "stdout",
     "output_type": "stream",
     "text": [
      "Error, Please enter numeric input\n"
     ]
    }
   ],
   "source": [
    "#Chapter 3 Exercise 2\n",
    "\n",
    "try:\n",
    "    hours=int(input(\"Enter Hours: \"))\n",
    "    rate=float(input(\"Enter Rate: \"))\n",
    "    if hours<40:\n",
    "        pay = hours * rate\n",
    "    else:\n",
    "        pay=40*rate+(hours-40)*1.5*rate\n",
    "    print(\"Pay :\", round(pay, 2))\n",
    "except:\n",
    "    print(\"Error, Please enter numeric input\")\n"
   ]
  },
  {
   "cell_type": "code",
   "execution_count": 20,
   "metadata": {},
   "outputs": [
    {
     "name": "stdin",
     "output_type": "stream",
     "text": [
      "Enter a score between 0.0 and 1.0 :  0.95\n"
     ]
    },
    {
     "name": "stdout",
     "output_type": "stream",
     "text": [
      "Grade : A\n"
     ]
    }
   ],
   "source": [
    "#Chapter 3 Exercise 3\n",
    "\n",
    "try:\n",
    "    score=float(input(\"Enter a score between 0.0 and 1.0 : \"))\n",
    "    if score>1.0 or score<0.0:\n",
    "        print(\"Bad score! Please enter a score in the interval 0.0 and 1.0\")\n",
    "    else:\n",
    "        if score<0.6:\n",
    "            print(\"Grade : F\")\n",
    "        elif score<0.7:\n",
    "            print(\"Grade : D\")\n",
    "        elif score < 0.8:\n",
    "            print(\"Grade : C\")\n",
    "        elif score < 0.9:\n",
    "            print(\"Grade : B\")\n",
    "        else:\n",
    "            print(\"Grade : A\")\n",
    "except:\n",
    "    print(\"Bad score! Please enter a score in the interval 0.0 and 1.0\")"
   ]
  },
  {
   "cell_type": "code",
   "execution_count": 21,
   "metadata": {},
   "outputs": [
    {
     "name": "stdout",
     "output_type": "stream",
     "text": [
      "ABC\n",
      "Zap\n",
      "ABC\n"
     ]
    }
   ],
   "source": [
    "#Chapter 4 Exercise 5\n",
    "\n",
    "def fred():\n",
    "    print(\"Zap\")\n",
    "\n",
    "def jane():\n",
    "    print(\"ABC\")\n",
    "\n",
    "jane()\n",
    "fred()\n",
    "jane()"
   ]
  },
  {
   "cell_type": "code",
   "execution_count": 73,
   "metadata": {},
   "outputs": [
    {
     "name": "stdin",
     "output_type": "stream",
     "text": [
      "Enter Hours:  45\n",
      "Enter Rate:  10\n"
     ]
    },
    {
     "name": "stdout",
     "output_type": "stream",
     "text": [
      "Pay: 475.0\n"
     ]
    }
   ],
   "source": [
    "#Chapter 4 Exercise 6\n",
    "\n",
    "def computepay(hours,rate):\n",
    "    hours=int(input(\"Enter Hours: \"))\n",
    "    rate=float(input(\"Enter Rate: \"))\n",
    "    if hours < 40:\n",
    "        pay = hours * rate\n",
    "    else:\n",
    "        pay = 40 * rate + (hours - 40) * 1.5 * rate\n",
    "    print(\"Pay: {}\".format(round(pay,2)))\n",
    "    \n",
    "\n",
    "\n",
    "computepay({},{})"
   ]
  },
  {
   "cell_type": "code",
   "execution_count": 65,
   "metadata": {},
   "outputs": [
    {
     "name": "stdin",
     "output_type": "stream",
     "text": [
      "Enter Score :  0.95\n"
     ]
    },
    {
     "name": "stdout",
     "output_type": "stream",
     "text": [
      "Grade : A\n"
     ]
    }
   ],
   "source": [
    "#Chapter 4 Exercise 7\n",
    "\n",
    "def computegrade(score):\n",
    "    try:\n",
    "        score=float(input(\"Enter Score : \"))\n",
    "        if score>1.0 or score<0.0:\n",
    "            print(\"Bad score! Please enter a score in the interval 0.0 and 1.0\")\n",
    "        else:\n",
    "            if score<0.6:\n",
    "                print(\"Grade : F\".format(score))\n",
    "            elif score<0.7:\n",
    "                print(\"Grade : D\".format(score))\n",
    "            elif score < 0.8:\n",
    "                print(\"Grade : C\".format(score))\n",
    "            elif score < 0.9:\n",
    "                print(\"Grade : B\".format(score))\n",
    "            else:\n",
    "                print(\"Grade : A\".format(score))\n",
    "    except(ValueError,TypeError,NameError):\n",
    "        print(\"Bad score! Please enter a score in the interval 0.0 and 1.0\")\n",
    "\n",
    "\n",
    "\n",
    "computegrade({})"
   ]
  },
  {
   "cell_type": "code",
   "execution_count": null,
   "metadata": {},
   "outputs": [],
   "source": []
  }
 ],
 "metadata": {
  "kernelspec": {
   "display_name": "Python 3",
   "language": "python",
   "name": "python3"
  },
  "language_info": {
   "codemirror_mode": {
    "name": "ipython",
    "version": 3
   },
   "file_extension": ".py",
   "mimetype": "text/x-python",
   "name": "python",
   "nbconvert_exporter": "python",
   "pygments_lexer": "ipython3",
   "version": "3.7.3"
  }
 },
 "nbformat": 4,
 "nbformat_minor": 2
}
